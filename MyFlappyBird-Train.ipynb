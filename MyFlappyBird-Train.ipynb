{
 "cells": [
  {
   "cell_type": "markdown",
   "metadata": {},
   "source": [
    "# 导入运行时需要的Package"
   ]
  },
  {
   "cell_type": "code",
   "execution_count": 1,
   "metadata": {
    "scrolled": true
   },
   "outputs": [
    {
     "name": "stdout",
     "output_type": "stream",
     "text": [
      "2.4.1\n"
     ]
    }
   ],
   "source": [
    "import random\n",
    "import numpy as np\n",
    "from collections import deque\n",
    "import sys\n",
    "import cv2\n",
    "import os\n",
    "import logging\n",
    "import logging.handlers\n",
    "\n",
    "import tensorflow as tf\n",
    "from tensorflow import keras\n",
    "from tensorflow.keras import layers, Sequential, losses, models\n",
    "\n",
    "sys.path.append(os.path.join('game/'))\n",
    "print(tf.__version__)\n",
    "\n",
    "# print('Headless Mode')\n",
    "# os.environ['SDL_VIDEODRIVER'] = 'dummy'"
   ]
  },
  {
   "cell_type": "markdown",
   "metadata": {},
   "source": [
    "# ++++++++++演示过程++++++++++"
   ]
  },
  {
   "cell_type": "code",
   "execution_count": 2,
   "metadata": {
    "scrolled": false
   },
   "outputs": [
    {
     "name": "stdout",
     "output_type": "stream",
     "text": [
      "pygame 1.9.6\n",
      "Hello from the pygame community. https://www.pygame.org/contribute.html\n",
      "0 输入值 [0, 1] || 返回值 图片矩阵 略 奖励值= 0.1 是否GameOver= False\n",
      "1 输入值 [1, 0] || 返回值 图片矩阵 略 奖励值= 0.1 是否GameOver= False\n",
      "2 输入值 [1, 0] || 返回值 图片矩阵 略 奖励值= 0.1 是否GameOver= False\n",
      "3 输入值 [1, 0] || 返回值 图片矩阵 略 奖励值= 0.1 是否GameOver= False\n",
      "4 输入值 [1, 0] || 返回值 图片矩阵 略 奖励值= 0.1 是否GameOver= False\n",
      "5 输入值 [1, 0] || 返回值 图片矩阵 略 奖励值= 0.1 是否GameOver= False\n",
      "6 输入值 [1, 0] || 返回值 图片矩阵 略 奖励值= 0.1 是否GameOver= False\n",
      "7 输入值 [1, 0] || 返回值 图片矩阵 略 奖励值= 0.1 是否GameOver= False\n",
      "8 输入值 [1, 0] || 返回值 图片矩阵 略 奖励值= 0.1 是否GameOver= False\n",
      "9 输入值 [1, 0] || 返回值 图片矩阵 略 奖励值= 0.1 是否GameOver= False\n",
      "10 输入值 [1, 0] || 返回值 图片矩阵 略 奖励值= 0.1 是否GameOver= False\n",
      "11 输入值 [1, 0] || 返回值 图片矩阵 略 奖励值= 0.1 是否GameOver= False\n",
      "12 输入值 [1, 0] || 返回值 图片矩阵 略 奖励值= 0.1 是否GameOver= False\n",
      "13 输入值 [1, 0] || 返回值 图片矩阵 略 奖励值= 0.1 是否GameOver= False\n",
      "14 输入值 [1, 0] || 返回值 图片矩阵 略 奖励值= 0.1 是否GameOver= False\n",
      "15 输入值 [1, 0] || 返回值 图片矩阵 略 奖励值= 0.1 是否GameOver= False\n",
      "16 输入值 [1, 0] || 返回值 图片矩阵 略 奖励值= 0.1 是否GameOver= False\n",
      "17 输入值 [1, 0] || 返回值 图片矩阵 略 奖励值= 0.1 是否GameOver= False\n",
      "18 输入值 [1, 0] || 返回值 图片矩阵 略 奖励值= 0.1 是否GameOver= False\n",
      "19 输入值 [0, 1] || 返回值 图片矩阵 略 奖励值= 0.1 是否GameOver= False\n",
      "20 输入值 [1, 0] || 返回值 图片矩阵 略 奖励值= 0.1 是否GameOver= False\n",
      "21 输入值 [1, 0] || 返回值 图片矩阵 略 奖励值= 0.1 是否GameOver= False\n",
      "22 输入值 [1, 0] || 返回值 图片矩阵 略 奖励值= 0.1 是否GameOver= False\n",
      "23 输入值 [1, 0] || 返回值 图片矩阵 略 奖励值= 0.1 是否GameOver= False\n",
      "24 输入值 [1, 0] || 返回值 图片矩阵 略 奖励值= 0.1 是否GameOver= False\n",
      "25 输入值 [1, 0] || 返回值 图片矩阵 略 奖励值= 0.1 是否GameOver= False\n",
      "26 输入值 [1, 0] || 返回值 图片矩阵 略 奖励值= 0.1 是否GameOver= False\n",
      "27 输入值 [1, 0] || 返回值 图片矩阵 略 奖励值= 0.1 是否GameOver= False\n",
      "28 输入值 [1, 0] || 返回值 图片矩阵 略 奖励值= 0.1 是否GameOver= False\n",
      "29 输入值 [1, 0] || 返回值 图片矩阵 略 奖励值= 0.1 是否GameOver= False\n",
      "30 输入值 [1, 0] || 返回值 图片矩阵 略 奖励值= 0.1 是否GameOver= False\n",
      "31 输入值 [1, 0] || 返回值 图片矩阵 略 奖励值= 0.1 是否GameOver= False\n",
      "32 输入值 [1, 0] || 返回值 图片矩阵 略 奖励值= 0.1 是否GameOver= False\n",
      "33 输入值 [1, 0] || 返回值 图片矩阵 略 奖励值= 0.1 是否GameOver= False\n",
      "34 输入值 [1, 0] || 返回值 图片矩阵 略 奖励值= 0.1 是否GameOver= False\n",
      "35 输入值 [1, 0] || 返回值 图片矩阵 略 奖励值= 0.1 是否GameOver= False\n",
      "36 输入值 [1, 0] || 返回值 图片矩阵 略 奖励值= 0.1 是否GameOver= False\n",
      "37 输入值 [1, 0] || 返回值 图片矩阵 略 奖励值= 0.1 是否GameOver= False\n",
      "38 输入值 [0, 1] || 返回值 图片矩阵 略 奖励值= 0.1 是否GameOver= False\n",
      "39 输入值 [1, 0] || 返回值 图片矩阵 略 奖励值= 0.1 是否GameOver= False\n",
      "40 输入值 [1, 0] || 返回值 图片矩阵 略 奖励值= 0.1 是否GameOver= False\n",
      "41 输入值 [1, 0] || 返回值 图片矩阵 略 奖励值= 0.1 是否GameOver= False\n",
      "42 输入值 [1, 0] || 返回值 图片矩阵 略 奖励值= 0.1 是否GameOver= False\n",
      "43 输入值 [1, 0] || 返回值 图片矩阵 略 奖励值= 0.1 是否GameOver= False\n",
      "44 输入值 [1, 0] || 返回值 图片矩阵 略 奖励值= 0.1 是否GameOver= False\n",
      "45 输入值 [1, 0] || 返回值 图片矩阵 略 奖励值= 0.1 是否GameOver= False\n",
      "46 输入值 [1, 0] || 返回值 图片矩阵 略 奖励值= 0.1 是否GameOver= False\n",
      "47 输入值 [1, 0] || 返回值 图片矩阵 略 奖励值= 0.1 是否GameOver= False\n",
      "48 输入值 [1, 0] || 返回值 图片矩阵 略 奖励值= 0.1 是否GameOver= False\n",
      "49 输入值 [1, 0] || 返回值 图片矩阵 略 奖励值= 0.1 是否GameOver= False\n",
      "50 输入值 [1, 0] || 返回值 图片矩阵 略 奖励值= 0.1 是否GameOver= False\n",
      "51 输入值 [1, 0] || 返回值 图片矩阵 略 奖励值= 0.1 是否GameOver= False\n",
      "52 输入值 [1, 0] || 返回值 图片矩阵 略 奖励值= 0.1 是否GameOver= False\n",
      "53 输入值 [1, 0] || 返回值 图片矩阵 略 奖励值= 0.1 是否GameOver= False\n",
      "54 输入值 [1, 0] || 返回值 图片矩阵 略 奖励值= 0.1 是否GameOver= False\n",
      "55 输入值 [1, 0] || 返回值 图片矩阵 略 奖励值= 0.1 是否GameOver= False\n",
      "56 输入值 [1, 0] || 返回值 图片矩阵 略 奖励值= -1 是否GameOver= True\n",
      "57 输入值 [0, 1] || 返回值 图片矩阵 略 奖励值= 0.1 是否GameOver= False\n",
      "58 输入值 [1, 0] || 返回值 图片矩阵 略 奖励值= 0.1 是否GameOver= False\n",
      "59 输入值 [1, 0] || 返回值 图片矩阵 略 奖励值= 0.1 是否GameOver= False\n",
      "60 输入值 [1, 0] || 返回值 图片矩阵 略 奖励值= 0.1 是否GameOver= False\n",
      "61 输入值 [1, 0] || 返回值 图片矩阵 略 奖励值= 0.1 是否GameOver= False\n",
      "62 输入值 [1, 0] || 返回值 图片矩阵 略 奖励值= 0.1 是否GameOver= False\n",
      "63 输入值 [1, 0] || 返回值 图片矩阵 略 奖励值= 0.1 是否GameOver= False\n",
      "64 输入值 [1, 0] || 返回值 图片矩阵 略 奖励值= 0.1 是否GameOver= False\n",
      "65 输入值 [1, 0] || 返回值 图片矩阵 略 奖励值= 0.1 是否GameOver= False\n",
      "66 输入值 [1, 0] || 返回值 图片矩阵 略 奖励值= 0.1 是否GameOver= False\n",
      "67 输入值 [1, 0] || 返回值 图片矩阵 略 奖励值= 0.1 是否GameOver= False\n",
      "68 输入值 [1, 0] || 返回值 图片矩阵 略 奖励值= 0.1 是否GameOver= False\n",
      "69 输入值 [1, 0] || 返回值 图片矩阵 略 奖励值= 0.1 是否GameOver= False\n",
      "70 输入值 [1, 0] || 返回值 图片矩阵 略 奖励值= 0.1 是否GameOver= False\n",
      "71 输入值 [1, 0] || 返回值 图片矩阵 略 奖励值= 0.1 是否GameOver= False\n",
      "72 输入值 [1, 0] || 返回值 图片矩阵 略 奖励值= 0.1 是否GameOver= False\n",
      "73 输入值 [1, 0] || 返回值 图片矩阵 略 奖励值= 0.1 是否GameOver= False\n",
      "74 输入值 [1, 0] || 返回值 图片矩阵 略 奖励值= 0.1 是否GameOver= False\n",
      "75 输入值 [1, 0] || 返回值 图片矩阵 略 奖励值= 0.1 是否GameOver= False\n",
      "76 输入值 [0, 1] || 返回值 图片矩阵 略 奖励值= 0.1 是否GameOver= False\n",
      "77 输入值 [1, 0] || 返回值 图片矩阵 略 奖励值= 0.1 是否GameOver= False\n",
      "78 输入值 [1, 0] || 返回值 图片矩阵 略 奖励值= 0.1 是否GameOver= False\n",
      "79 输入值 [1, 0] || 返回值 图片矩阵 略 奖励值= 0.1 是否GameOver= False\n",
      "80 输入值 [1, 0] || 返回值 图片矩阵 略 奖励值= 0.1 是否GameOver= False\n",
      "81 输入值 [1, 0] || 返回值 图片矩阵 略 奖励值= 0.1 是否GameOver= False\n",
      "82 输入值 [1, 0] || 返回值 图片矩阵 略 奖励值= 0.1 是否GameOver= False\n",
      "83 输入值 [1, 0] || 返回值 图片矩阵 略 奖励值= 0.1 是否GameOver= False\n",
      "84 输入值 [1, 0] || 返回值 图片矩阵 略 奖励值= 0.1 是否GameOver= False\n",
      "85 输入值 [1, 0] || 返回值 图片矩阵 略 奖励值= 0.1 是否GameOver= False\n",
      "86 输入值 [1, 0] || 返回值 图片矩阵 略 奖励值= 0.1 是否GameOver= False\n",
      "87 输入值 [1, 0] || 返回值 图片矩阵 略 奖励值= 0.1 是否GameOver= False\n",
      "88 输入值 [1, 0] || 返回值 图片矩阵 略 奖励值= 0.1 是否GameOver= False\n",
      "89 输入值 [1, 0] || 返回值 图片矩阵 略 奖励值= 0.1 是否GameOver= False\n",
      "90 输入值 [1, 0] || 返回值 图片矩阵 略 奖励值= 0.1 是否GameOver= False\n",
      "91 输入值 [1, 0] || 返回值 图片矩阵 略 奖励值= 0.1 是否GameOver= False\n",
      "92 输入值 [1, 0] || 返回值 图片矩阵 略 奖励值= 0.1 是否GameOver= False\n",
      "93 输入值 [1, 0] || 返回值 图片矩阵 略 奖励值= 0.1 是否GameOver= False\n",
      "94 输入值 [1, 0] || 返回值 图片矩阵 略 奖励值= 0.1 是否GameOver= False\n",
      "95 输入值 [0, 1] || 返回值 图片矩阵 略 奖励值= 0.1 是否GameOver= False\n",
      "96 输入值 [1, 0] || 返回值 图片矩阵 略 奖励值= 0.1 是否GameOver= False\n",
      "97 输入值 [1, 0] || 返回值 图片矩阵 略 奖励值= 0.1 是否GameOver= False\n",
      "98 输入值 [1, 0] || 返回值 图片矩阵 略 奖励值= 0.1 是否GameOver= False\n",
      "99 输入值 [1, 0] || 返回值 图片矩阵 略 奖励值= 0.1 是否GameOver= False\n"
     ]
    },
    {
     "data": {
      "image/png": "[encoded data removed]",
      "text/plain": [
       "<Figure size 432x288 with 1 Axes>"
      ]
     },
     "metadata": {
      "needs_background": "light"
     },
     "output_type": "display_data"
    }
   ],
   "source": [
    "import wrapped_flappy_bird as game\n",
    "import matplotlib.pyplot as plt\n",
    "\n",
    "game_state = game.GameState()\n",
    "\n",
    "# 输入为a_t (1, 0)代表不跳，(0,1)代表跳。\n",
    "# 返回值为：\n",
    "# nextObservation 是下一帧图像\n",
    "# reward 是奖励(+0.1表示存活，+1表示通过管道，-1表示死亡)，奖励被控制在[-1,+1]来提高稳定性\n",
    "# terminal 是一个布尔值表示游戏是否结束\n",
    "\n",
    "replayMemory = deque()\n",
    "for index, timeStep in enumerate(range(100)):# 捕捉第100张图片\n",
    "    if timeStep % 19 == 0:\n",
    "        action = [0, 1]#跳\n",
    "    else:\n",
    "        action = [1, 0]#不跳\n",
    "\n",
    "    # 与智能体交互\n",
    "    nextState, reward, terminal = game_state.frame_step(action)\n",
    "    print(index, '输入值', action, '|| 返回值', '<图片矩阵>', '奖励值=', reward, '是否GameOver=', terminal)\n",
    "\n",
    "    # 将新状态加入到经验池中，注意元素顺序(当前状态，行为，奖励，下个状态，是否GameOver)\n",
    "    replayMemory.append((nextState, action, reward, nextState, terminal))\n",
    "\n",
    "# 显示最后一帧图片\n",
    "plt.imshow(nextState)\n",
    "plt.show()"
   ]
  },
  {
   "cell_type": "markdown",
   "metadata": {},
   "source": [
    "# 图片旋转90度"
   ]
  },
  {
   "cell_type": "code",
   "execution_count": 3,
   "metadata": {
    "scrolled": false
   },
   "outputs": [
    {
     "data": {
      "image/png": "[encoded data removed]",
      "text/plain": [
       "<Figure size 1600x640 with 1 Axes>"
      ]
     },
     "metadata": {
      "needs_background": "light"
     },
     "output_type": "display_data"
    }
   ],
   "source": [
    "plt.figure(figsize=(20,8), dpi=80)\n",
    "# 旋转90度\n",
    "plt.imshow(np.rot90(np.rot90(np.rot90(nextState))))\n",
    "plt.gca().invert_xaxis()\n",
    "plt.title('1')\n",
    "plt.show()"
   ]
  },
  {
   "cell_type": "markdown",
   "metadata": {},
   "source": [
    "# 图像处理\n",
    "调整大小 => 灰度化 => 二值化 => 4帧叠加"
   ]
  },
  {
   "cell_type": "code",
   "execution_count": 4,
   "metadata": {
    "scrolled": false
   },
   "outputs": [
    {
     "data": {
      "image/png": "[encoded data removed]",
      "text/plain": [
       "<Figure size 432x288 with 1 Axes>"
      ]
     },
     "metadata": {
      "needs_background": "light"
     },
     "output_type": "display_data"
    },
    {
     "data": {
      "image/png": "[encoded data removed]",
      "text/plain": [
       "<Figure size 432x288 with 1 Axes>"
      ]
     },
     "metadata": {
      "needs_background": "light"
     },
     "output_type": "display_data"
    },
    {
     "data": {
      "image/png": "[encoded data removed]",
      "text/plain": [
       "<Figure size 432x288 with 1 Axes>"
      ]
     },
     "metadata": {
      "needs_background": "light"
     },
     "output_type": "display_data"
    },
    {
     "data": {
      "image/png": "[encoded data removed]",
      "text/plain": [
       "<Figure size 432x288 with 1 Axes>"
      ]
     },
     "metadata": {
      "needs_background": "light"
     },
     "output_type": "display_data"
    },
    {
     "name": "stderr",
     "output_type": "stream",
     "text": [
      "C:\\Users\\zfe5szh\\Anaconda3\\envs\\tf2\\lib\\site-packages\\ipykernel_launcher.py:35: MatplotlibDeprecationWarning: Adding an axes using the same arguments as a previous axes currently reuses the earlier instance.  In a future version, a new instance will always be created and returned.  Meanwhile, this warning can be suppressed, and the future behavior ensured, by passing a unique label to each axes instance.\n"
     ]
    },
    {
     "data": {
      "image/png": "[encoded data removed]",
      "text/plain": [
       "<Figure size 640x640 with 4 Axes>"
      ]
     },
     "metadata": {
      "needs_background": "light"
     },
     "output_type": "display_data"
    }
   ],
   "source": [
    "import pandas as pd\n",
    "\n",
    "# 显示原始图片\n",
    "plt.imshow(nextState)\n",
    "plt.title('Original Picture' + str(nextState.shape))\n",
    "plt.show()\n",
    "\n",
    "# 裁剪成为80x80的小图片，但是依然是彩色的\n",
    "x_t1_colored = cv2.resize(nextState, (80, 80))# (288, 512, 3)的图片裁剪成(80, 80, 3)的小图片\n",
    "plt.imshow(x_t1_colored)\n",
    "plt.title('Picture Resized' + str(x_t1_colored.shape))\n",
    "plt.show()\n",
    "\n",
    "# 将彩色图片转为灰度图\n",
    "x_t1_gray = cv2.cvtColor(x_t1_colored, cv2.COLOR_BGR2GRAY)\n",
    "plt.imshow(x_t1_gray)\n",
    "plt.title('Picture GrayScaled' + str(x_t1_gray.shape))\n",
    "plt.show()\n",
    "\n",
    "# cv2.threshold(src, thresh, maxval, type[, dst]) → retval, dst\n",
    "# 将一个灰色的图片，变成要么是白色要么就是黑色。（大于规定thresh值就是设置的最大值（常为255，也就是白色））\n",
    "ret, x_t1_gray = cv2.threshold(x_t1_gray, 0, 255, cv2.THRESH_BINARY)# 将图片转为黑白二值\n",
    "plt.imshow(x_t1_gray)\n",
    "plt.title('Picture Black and White Binary' + str(x_t1_gray.shape))\n",
    "plt.show()\n",
    "\n",
    "# # x_t1_gray是一个(1x1x80x80) 的单帧，需要4帧的叠加\n",
    "s_t1 = np.stack((x_t1_gray, x_t1_gray, x_t1_gray, x_t1_gray), axis=2)# np.stack的官方解释为 对指定axis增加维度\n",
    "\n",
    "plt.figure(figsize=(8,8), dpi=80)\n",
    "for i in range(1,5):\n",
    "    plt.subplot(2,2,i)\n",
    "    plt.imshow(s_t1[:,:,i-1])\n",
    "    \n",
    "plt.subplot(2,2,1)\n",
    "plt.title('4 Pictures overlap'+ str(s_t1.shape))\n",
    "plt.show()"
   ]
  },
  {
   "cell_type": "markdown",
   "metadata": {},
   "source": [
    "# 旋转图片"
   ]
  },
  {
   "cell_type": "code",
   "execution_count": 5,
   "metadata": {},
   "outputs": [
    {
     "data": {
      "image/png": "[encoded data removed]",
      "text/plain": [
       "<Figure size 1600x640 with 1 Axes>"
      ]
     },
     "metadata": {
      "needs_background": "light"
     },
     "output_type": "display_data"
    }
   ],
   "source": [
    "# 将图片数据导出csv文件\n",
    "pd.DataFrame(x_t1_gray).to_csv('.\\picture.csv')\n",
    "\n",
    "plt.figure(figsize=(20,8), dpi=80)\n",
    "plt.imshow(np.rot90(np.rot90(np.rot90(x_t1_gray))))\n",
    "plt.gca().invert_xaxis()\n",
    "plt.title('input picture')\n",
    "plt.show()"
   ]
  },
  {
   "cell_type": "markdown",
   "metadata": {},
   "source": [
    "# ++++++++++训练过程++++++++++"
   ]
  },
  {
   "cell_type": "markdown",
   "metadata": {},
   "source": [
    "# 定义参数"
   ]
  },
  {
   "cell_type": "code",
   "execution_count": null,
   "metadata": {
    "scrolled": true
   },
   "outputs": [],
   "source": [
    "ACTIONS = 2 # number of valid actions\n",
    "GAMMA = 0.99 # decay rate of past observations\n",
    "OBSERVE = 5000 # timesteps to observe before training           预热期：不训练，主要是为了让记忆模块先积累一定数据\n",
    "EXPLORE = OBSERVE + 20000 # frames over which to anneal epsilon 探索期：逐渐降低随机概率，从随机探索过渡到有向策略，并且每次从记忆模块中取出一些数据训练模型\n",
    "TRAIN = 10000000                                              # 训练期：固定随机概率，进一步训练模型，使得Q函数进一步收敛\n",
    "\n",
    "FINAL_EPSILON = 0.0001 # final value of epsilon   最低采用随机Action的概率0.01%\n",
    "INITIAL_EPSILON = 0.1 # starting value of epsilon 初始采用随机Action的概率10%\n",
    "\n",
    "BATCH_SIZE = 32 # size of minibatch\n",
    "REPLAY_MEMORY = 10000 # number of previous transitions to remember 经验池中保存的样本数量\n",
    "FRAME_PER_ACTION = 1 # number of frames per action 多少次回合采样一个Action\n",
    "LEARNING_RATE = 0.000001 # learning rate：1e-6\n",
    "\n",
    "# 模型保存文件夹\n",
    "MODEL_FOLDER = os.path.join('FlappyBird_Model_Train')\n",
    "if not os.path.exists(MODEL_FOLDER):\n",
    "    os.mkdir(MODEL_FOLDER)# 如果文件夹不存在，就创建\n",
    "\n",
    "MODEL_DIR = os.path.join(MODEL_FOLDER, 'FlappyBird_Model.h5')\n",
    "print('模型保存路径', MODEL_DIR)\n"
   ]
  },
  {
   "cell_type": "markdown",
   "metadata": {},
   "source": [
    "# 日志设置"
   ]
  },
  {
   "cell_type": "code",
   "execution_count": null,
   "metadata": {},
   "outputs": [],
   "source": [
    "logger = logging.getLogger()\n",
    "logger.setLevel('DEBUG')\n",
    "BASIC_FORMAT = '%(asctime)s:%(levelname)s:%(message)s'\n",
    "DATE_FORMAT = '%Y-%m-%d %H:%M:%S'\n",
    "formatter = logging.Formatter(BASIC_FORMAT, DATE_FORMAT)\n",
    "\n",
    "chlr = logging.StreamHandler() # 输出到控制台的handler\n",
    "chlr.setFormatter(formatter)\n",
    "chlr.setLevel('INFO')\n",
    "logger.addHandler(chlr)\n",
    "\n",
    "fhlr = logging.handlers.RotatingFileHandler(filename='flappybird.log', maxBytes=3*1024*1024, backupCount=3)# 输出到文件的handler 一个日志文件最大3M，保留3个\n",
    "fhlr.setFormatter(formatter)\n",
    "fhlr.setLevel('DEBUG')\n",
    "logger.addHandler(fhlr)"
   ]
  },
  {
   "cell_type": "markdown",
   "metadata": {},
   "source": [
    "# 多显卡分布式设置"
   ]
  },
  {
   "cell_type": "code",
   "execution_count": null,
   "metadata": {},
   "outputs": [],
   "source": [
    "# 显示显卡日志\n",
    "# tf.debugging.set_log_device_placement(True)\n",
    "gpus = tf.config.experimental.list_physical_devices('GPU')\n",
    "\n",
    "try:\n",
    "    for gpu in gpus:\n",
    "        tf.config.experimental.set_memory_growth(gpu, True)\n",
    "#        tf.config.experimental.set_virtual_device_configuration(gpu,\n",
    "#            [tf.config.experimental.VirtualDeviceConfiguration(memory_limit=5120),#单位：M\n",
    "#             tf.config.experimental.VirtualDeviceConfiguration(memory_limit=5120)])\n",
    "except RuntimeError as e:\n",
    "    logger.error(e)\n",
    "\n",
    "logger.debug('physical GPU:' + str(len(gpus)))\n",
    "\n",
    "logical_gpus = tf.config.experimental.list_logical_devices('GPU')\n",
    "logger.debug('logical GPU:' + str(len(logical_gpus)))\n",
    "\n",
    "cpus = tf.config.experimental.list_physical_devices('CPU')\n",
    "logger.debug('physical CPU:' + str(len(cpus)))\n",
    "\n",
    "strategy = tf.distribute.MirroredStrategy()# devices=[\"/gpu:0\", \"/gpu:1\"]\n",
    "#strategy = tf.distribute.MirroredStrategy(devices=[\"/gpu:0\", \"/gpu:1\", \"/gpu:2\", \"/gpu:3\"], cross_device_ops=tf.distribute.HierarchicalCopyAllReduce())\n",
    "logger.info('分布式策略可使用设备数量:{}'.format(strategy.num_replicas_in_sync))"
   ]
  },
  {
   "cell_type": "markdown",
   "metadata": {},
   "source": [
    "# 将游戏返回的图片转为80*80的灰阶图片"
   ]
  },
  {
   "cell_type": "code",
   "execution_count": null,
   "metadata": {},
   "outputs": [],
   "source": [
    "def preprocess(observation):\n",
    "    observation = cv2.cvtColor(cv2.resize(observation, (80, 80)), cv2.COLOR_BGR2GRAY)\n",
    "    _, observation = cv2.threshold(observation, 1, 255, cv2.THRESH_BINARY)\n",
    "    return np.reshape(observation,(80,80,1))"
   ]
  },
  {
   "cell_type": "markdown",
   "metadata": {},
   "source": [
    "# 搭建模型"
   ]
  },
  {
   "cell_type": "code",
   "execution_count": null,
   "metadata": {
    "scrolled": false
   },
   "outputs": [],
   "source": [
    "def build_model():\n",
    "    if os.path.exists(MODEL_DIR):\n",
    "        os.remove(MODEL_DIR)\n",
    "        \n",
    "    model = Sequential([\n",
    "        layers.Conv2D(filters=32, # 输出有多少个通道，即有多少个卷积核\n",
    "                      kernel_size=8,# 卷积核大小\n",
    "                      strides=4,# 步长\n",
    "                      padding='same',# 加padding，使得输入和输出大小一样\n",
    "                      activation='relu',# 激活函数\n",
    "                      kernel_initializer=keras.initializers.TruncatedNormal(stddev=0.01),\n",
    "                      bias_initializer=tf.constant_initializer(value=0.01),\n",
    "                      input_shape=(80, 80, 4)),\n",
    "        \n",
    "        layers.MaxPool2D(pool_size=2),# 池化层\n",
    "        \n",
    "        layers.Conv2D(filters=64,# 卷积层\n",
    "                      kernel_size=4,\n",
    "                      strides=2,\n",
    "                      padding='same',\n",
    "                      activation='relu',\n",
    "                      kernel_initializer=keras.initializers.TruncatedNormal(stddev=0.01),\n",
    "                      bias_initializer=tf.constant_initializer(value=0.01)),\n",
    "        \n",
    "        layers.MaxPool2D(pool_size=2),# 池化层\n",
    "        \n",
    "        layers.Conv2D(filters=64,# 卷积层\n",
    "                      kernel_size=3,\n",
    "                      strides=1,\n",
    "                      padding='same',\n",
    "                      activation='relu',\n",
    "                      kernel_initializer=keras.initializers.TruncatedNormal(stddev=0.01),\n",
    "                      bias_initializer=tf.constant_initializer(value=0.01)),\n",
    "        \n",
    "        layers.MaxPool2D(pool_size=2),# 池化层\n",
    "        \n",
    "        layers.Flatten(),# 展平矩阵到一维向量\n",
    "        layers.Dense(512, \n",
    "                     activation='relu',\n",
    "                     kernel_initializer=keras.initializers.TruncatedNormal(stddev=0.01),\n",
    "                     bias_initializer=tf.constant_initializer(value=0.01)),\n",
    "        \n",
    "        layers.Dense(2,\n",
    "                     kernel_initializer=keras.initializers.TruncatedNormal(stddev=0.01),\n",
    "                     bias_initializer=tf.constant_initializer(value=0.01))# 输出是估计未来奖励的价值函数\n",
    "    ])\n",
    "    \n",
    "    # 优化器\n",
    "    optimizer = keras.optimizers.Adam(lr=LEARNING_RATE)\n",
    "    # Compile model\n",
    "    model.compile(loss=losses.mean_squared_error, optimizer=optimizer, metrics=['accuracy'])\n",
    "        \n",
    "    model.summary()\n",
    "    \n",
    "    return model"
   ]
  },
  {
   "cell_type": "markdown",
   "metadata": {},
   "source": [
    "# 加载现有的网络，如果没有现存的网络，则新建"
   ]
  },
  {
   "cell_type": "code",
   "execution_count": null,
   "metadata": {},
   "outputs": [],
   "source": [
    "def load_model(model_dir):\n",
    "    if not os.path.exists(model_dir):\n",
    "        logger.info('创建模型')\n",
    "        with strategy.scope():\n",
    "            return build_model()\n",
    "    else:\n",
    "        OBSERVE = BATCH_SIZE\n",
    "        logger.info('加载模型')\n",
    "        with strategy.scope():\n",
    "            return models.load_model(model_dir)"
   ]
  },
  {
   "cell_type": "markdown",
   "metadata": {},
   "source": [
    "# 训练网络"
   ]
  },
  {
   "cell_type": "code",
   "execution_count": null,
   "metadata": {},
   "outputs": [],
   "source": [
    "def train(model, replayMemory):\n",
    "    if len(replayMemory) < BATCH_SIZE:\n",
    "        return None\n",
    "    \n",
    "    # 从状态池中随机取BATCH_SIZE个样\n",
    "    minibatch = random.sample(replayMemory, BATCH_SIZE)\n",
    "    state_batch = [data[0] for data in minibatch]\n",
    "    action_batch = [data[1] for data in minibatch]\n",
    "    reward_batch = [data[2] for data in minibatch]\n",
    "    nextState_batch = [data[3] for data in minibatch]\n",
    "    \n",
    "    # 计算依据当前状态预测的奖励价值\n",
    "    Q_state_batch = model(tf.constant(state_batch, tf.float64))\n",
    "    \n",
    "    # 计算依据下个状态预测的奖励价值\n",
    "    Q_nextState_batch = model(tf.constant(nextState_batch, tf.float64))\n",
    "    \n",
    "    # 初始化训练用的变量\n",
    "    inputs = np.zeros((BATCH_SIZE, 80, 80, 4))\n",
    "    targets = np.zeros((BATCH_SIZE, ACTIONS))\n",
    "    \n",
    "    inputs = state_batch\n",
    "    targets = Q_state_batch.numpy()\n",
    "    \n",
    "    # 计算目标值 = 当前状态预测的奖励价值 + 下个状态预测的奖励价值 * 衰减度GAMMA\n",
    "    for i in range(BATCH_SIZE):\n",
    "        terminal = minibatch[i][4]# [4]：是否GameOver\n",
    "        if terminal:# targets[i, np.argmax(action_batch[i])]存储着跳或者不跳所对应的奖励\n",
    "            targets[i, np.argmax(action_batch[i])] = reward_batch[i]# 就是-1\n",
    "        else:\n",
    "            targets[i, np.argmax(action_batch[i])] = reward_batch[i] + np.max(Q_nextState_batch[i]) * GAMMA# Q_nextState_batch是模型预测出来的奖励值\n",
    "    \n",
    "    # Train on batch\n",
    "    inputs = tf.constant(inputs)\n",
    "    loss, accuracy = model.train_on_batch(inputs, targets)\n",
    "    # logger.info('===========> Model Trained loss: {}, accuracy: {}'.format(loss, accuracy))"
   ]
  },
  {
   "cell_type": "markdown",
   "metadata": {},
   "source": [
    "# 获得下一个Action"
   ]
  },
  {
   "cell_type": "code",
   "execution_count": null,
   "metadata": {},
   "outputs": [],
   "source": [
    "def getAction(model, state, epsilon, timeStep):\n",
    "    # 观察期有95%的几率横着走，这是为了积累成功经验，避免“一飞冲天”\n",
    "    if timeStep < OBSERVE and random.random() <= 0.95:\n",
    "        if timeStep % 19 ==0:\n",
    "            action = [0,1]# 跳\n",
    "        else:\n",
    "            action = [1,0]# 不跳\n",
    "        action_index = np.argmax(action)\n",
    "        return action, action_index, epsilon\n",
    "    \n",
    "    state_ = tf.expand_dims(state, axis=0)# 扩展维度 (80,80,4) => (1,80,80,4)\n",
    "    QValue = model(state_)[0]\n",
    "\n",
    "    # 初始化action\n",
    "    action = np.zeros(ACTIONS)# 生成[0, 0]\n",
    "    action_index = 0\n",
    "    if timeStep % FRAME_PER_ACTION == 0:# FRAME_PER_ACTION个回合采样一个Action，否则采用默认Action：do nothing\n",
    "        # random.random()生成0和1之间的随机浮点数float\n",
    "        if random.random() <= epsilon:# epsilon是采用随机action的概率\n",
    "            # 随机采取Action\n",
    "            action_index = random.randrange(ACTIONS)\n",
    "            action[action_index] = 1\n",
    "        else:\n",
    "            # 按照Q表采取Action\n",
    "            action_index = np.argmax(QValue)\n",
    "            action[action_index] = 1\n",
    "    else:\n",
    "        # 默认Action：do nothing\n",
    "        action = [1,0]\n",
    "\n",
    "    # 观察期过后epsilon概率逐渐衰减至最小值，越到后面越采用Q值最大的动作，到达训练期epsilon一直维持在最小值\n",
    "    if epsilon > FINAL_EPSILON and timeStep > OBSERVE:\n",
    "        epsilon -= (INITIAL_EPSILON - FINAL_EPSILON) / EXPLORE# 采用随机Action的概率逐渐衰减\n",
    "\n",
    "    return action, action_index, epsilon"
   ]
  },
  {
   "cell_type": "markdown",
   "metadata": {},
   "source": [
    "# 打印日志"
   ]
  },
  {
   "cell_type": "code",
   "execution_count": null,
   "metadata": {},
   "outputs": [],
   "source": [
    "def print_info(timeStep, epsilon, action_index, reward, terminal, score, replayMemory):\n",
    "    state = ''\n",
    "    if timeStep <= OBSERVE:\n",
    "        state = '观察期'\n",
    "    elif timeStep > OBSERVE and timeStep <= OBSERVE + EXPLORE:\n",
    "        state = '探索期'\n",
    "    else:\n",
    "        state = '训练期'\n",
    "        \n",
    "    log = '步数:' + str(timeStep) + ' => ' + state + ' => epsilon:' + str(epsilon) + \\\n",
    "          ' => 本次行为:'  + str(action_index) + ' => 本次奖励:' + str(reward) + \\\n",
    "          ' => 累计分数:' + str(score)# + ' => 样本数量:' + str(len(replayMemory))\n",
    "\n",
    "    if terminal:\n",
    "        log += ' Game Over'\n",
    "    \n",
    "    logger.info(log)"
   ]
  },
  {
   "cell_type": "markdown",
   "metadata": {},
   "source": [
    "# 主流程"
   ]
  },
  {
   "cell_type": "code",
   "execution_count": null,
   "metadata": {
    "scrolled": true
   },
   "outputs": [],
   "source": [
    "def train_bird():\n",
    "    import wrapped_flappy_bird as game\n",
    "    \n",
    "    # 初始化游戏\n",
    "    flappyBird = game.GameState()\n",
    "    \n",
    "    timeStep = 0 \n",
    "    total_reward = 0\n",
    "    replayMemory = deque()\n",
    "    epsilon = INITIAL_EPSILON# 10%\n",
    "    \n",
    "    # 构建模型\n",
    "    model = load_model(MODEL_DIR)\n",
    "    \n",
    "    # 第一次与智能体交互\n",
    "    action = np.array([1, 0])# do nothing\n",
    "    observation0, reward, terminal = flappyBird.frame_step(action)\n",
    "    \n",
    "    # 处理第一张图片，调整大小 => 灰度化\n",
    "    observation0 = cv2.cvtColor(cv2.resize(observation0, (80, 80)), cv2.COLOR_BGR2GRAY)\n",
    "    #  => 二值化\n",
    "    ret, observation0 = cv2.threshold(observation0, 1, 255, cv2.THRESH_BINARY)\n",
    "    \n",
    "    # 第一次的4张图片都是一样的， => 4帧叠加\n",
    "    currentObservation = np.stack((observation0, observation0, observation0, observation0), axis = 2)\n",
    "    \n",
    "    # 无限循环\n",
    "    while True:\n",
    "        # 根据上一次的Observation，获得下一次的Action\n",
    "        action, action_index, epsilon = getAction(model, currentObservation, epsilon, timeStep)\n",
    "        \n",
    "        # 将Action传入游戏，获得游戏的反馈(状态，奖励，是否GameOver)\n",
    "        nextObservation, reward, terminal = flappyBird.frame_step(action)\n",
    "    \n",
    "        # 处理图片\n",
    "        nextObservation = preprocess(nextObservation)\n",
    "        \n",
    "        # 将最近的图片后面追加老的前3张图片，从而得到一个新状态：新图片 + 前3张旧图片\n",
    "        newObservation = np.append(nextObservation, currentObservation[:,:,:3], axis = 2)\n",
    "        \n",
    "        # 将新状态加入到经验池中，注意元素顺序(当前状态，行为，奖励，下个状态，是否GameOver)\n",
    "        replayMemory.append((currentObservation, action, reward, newObservation, terminal))\n",
    "            \n",
    "        # 训练条件：1)观察期不训练，2)每10步训练一次，3)经验池中有足够的样本\n",
    "        if timeStep > OBSERVE and timeStep % 10 == 0 and len(replayMemory) >= BATCH_SIZE:\n",
    "            train(model, replayMemory)\n",
    "            \n",
    "        # 经验池中只保留最近REPLAY_MEMORY个经验\n",
    "        if len(replayMemory) > REPLAY_MEMORY:\n",
    "            replayMemory.popleft()# 删除最旧的经验，只保留最近的经验\n",
    "            \n",
    "        # 计算得分\n",
    "        if terminal:\n",
    "            total_reward = 0# Game Over 总分清零\n",
    "            train(model, replayMemory)\n",
    "        elif reward == 1:\n",
    "            total_reward += reward\n",
    "            train(model, replayMemory)\n",
    "        \n",
    "        # 更替状态\n",
    "        currentObservation = newObservation\n",
    "        timeStep += 1\n",
    "        \n",
    "        # 操作游戏100次，保存一下模型训练进度\n",
    "        if timeStep % 1000 == 0:\n",
    "            model.save(MODEL_DIR)\n",
    "        \n",
    "        # 打印日志\n",
    "        if timeStep % 100 == 0 or reward == 1:\n",
    "            print_info(timeStep, epsilon, action_index, reward, terminal, total_reward, replayMemory)\n",
    "            \n",
    "        # 一千万次后退出训练\n",
    "        if timeStep >= TRAIN:\n",
    "            break"
   ]
  },
  {
   "cell_type": "markdown",
   "metadata": {},
   "source": [
    "# 调用主函数"
   ]
  },
  {
   "cell_type": "code",
   "execution_count": null,
   "metadata": {},
   "outputs": [],
   "source": [
    "train_bird()"
   ]
  }
 ],
 "metadata": {
  "kernelspec": {
   "display_name": "Tensorflow2",
   "language": "python",
   "name": "tf2"
  },
  "language_info": {
   "codemirror_mode": {
    "name": "ipython",
    "version": 3
   },
   "file_extension": ".py",
   "mimetype": "text/x-python",
   "name": "python",
   "nbconvert_exporter": "python",
   "pygments_lexer": "ipython3",
   "version": "3.7.7"
  },
  "toc": {
   "base_numbering": 1,
   "nav_menu": {},
   "number_sections": true,
   "sideBar": true,
   "skip_h1_title": false,
   "title_cell": "Table of Contents",
   "title_sidebar": "Contents",
   "toc_cell": false,
   "toc_position": {},
   "toc_section_display": true,
   "toc_window_display": false
  }
 },
 "nbformat": 4,
 "nbformat_minor": 4
}
